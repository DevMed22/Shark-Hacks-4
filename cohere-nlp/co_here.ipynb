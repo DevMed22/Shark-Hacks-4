{
  "nbformat": 4,
  "nbformat_minor": 0,
  "metadata": {
    "colab": {
      "provenance": [],
      "collapsed_sections": [],
      "authorship_tag": "ABX9TyPU+ffgCmwH56MtEWb6uXyP",
      "include_colab_link": true
    },
    "kernelspec": {
      "name": "python3",
      "display_name": "Python 3"
    },
    "language_info": {
      "name": "python"
    }
  },
  "cells": [
    {
      "cell_type": "markdown",
      "metadata": {
        "id": "view-in-github",
        "colab_type": "text"
      },
      "source": [
        "<a href=\"https://colab.research.google.com/github/DevMed22/Shark-Hacks-4/blob/cohere-nlp/cohere-nlp/co_here.ipynb\" target=\"_parent\"><img src=\"https://colab.research.google.com/assets/colab-badge.svg\" alt=\"Open In Colab\"/></a>"
      ]
    },
    {
      "cell_type": "markdown",
      "source": [
        "https://os.cohere.ai/playground/large/classify\n",
        "\n",
        "https://os.cohere.ai/\n",
        "\n",
        "https://docs.cohere.ai/#api-reference"
      ],
      "metadata": {
        "id": "acTbWnmnYC-w"
      }
    },
    {
      "cell_type": "code",
      "source": [
        "!pip install cohere"
      ],
      "metadata": {
        "colab": {
          "base_uri": "https://localhost:8080/"
        },
        "id": "DYXgKCFqIZmH",
        "outputId": "b82f17c3-009d-46e3-89a4-def5f0a0fb8a"
      },
      "execution_count": 2,
      "outputs": [
        {
          "output_type": "stream",
          "name": "stdout",
          "text": [
            "Looking in indexes: https://pypi.org/simple, https://us-python.pkg.dev/colab-wheels/public/simple/\n",
            "Collecting cohere\n",
            "  Downloading cohere-2.5.0.tar.gz (9.5 kB)\n",
            "Requirement already satisfied: requests in /usr/local/lib/python3.7/dist-packages (from cohere) (2.23.0)\n",
            "Requirement already satisfied: chardet<4,>=3.0.2 in /usr/local/lib/python3.7/dist-packages (from requests->cohere) (3.0.4)\n",
            "Requirement already satisfied: idna<3,>=2.5 in /usr/local/lib/python3.7/dist-packages (from requests->cohere) (2.10)\n",
            "Requirement already satisfied: urllib3!=1.25.0,!=1.25.1,<1.26,>=1.21.1 in /usr/local/lib/python3.7/dist-packages (from requests->cohere) (1.24.3)\n",
            "Requirement already satisfied: certifi>=2017.4.17 in /usr/local/lib/python3.7/dist-packages (from requests->cohere) (2022.6.15)\n",
            "Building wheels for collected packages: cohere\n",
            "  Building wheel for cohere (setup.py) ... \u001b[?25l\u001b[?25hdone\n",
            "  Created wheel for cohere: filename=cohere-2.5.0-cp37-cp37m-linux_x86_64.whl size=10614 sha256=a8f8046d01e5f9471cf94ac0e6e90821c61cb2635c5308effbd3e699c1e39682\n",
            "  Stored in directory: /root/.cache/pip/wheels/3e/0e/02/031047516935a152a911187e1b1f242167d41d6431c1cb1896\n",
            "Successfully built cohere\n",
            "Installing collected packages: cohere\n",
            "Successfully installed cohere-2.5.0\n"
          ]
        }
      ]
    },
    {
      "cell_type": "code",
      "execution_count": 11,
      "metadata": {
        "colab": {
          "base_uri": "https://localhost:8080/"
        },
        "id": "nTe0AX9zGsPS",
        "outputId": "359a355a-68cf-4ad6-86bd-c4b4689c4afa"
      },
      "outputs": [
        {
          "output_type": "stream",
          "name": "stdout",
          "text": [
            "Prediction: _. The prototype of the new Mk I was designated P-1 and was completed by the end of 1940. As in the P-6, the Mk I was given a reinforced lower hull to cope with the twin 5-inch/38\n"
          ]
        }
      ],
      "source": [
        "import cohere \n",
        "co = cohere.Client('rB5QMCCPPu9FfOLvTIA8dErKKReLCYWchcWVKYQz')\n",
        "response = co.generate( \n",
        "  model='xlarge', \n",
        "  prompt='shark', \n",
        "  max_tokens=50, \n",
        "  temperature=0.9, \n",
        "  k=0, \n",
        "  p=0.75, \n",
        "  frequency_penalty=0, \n",
        "  presence_penalty=0, \n",
        "  stop_sequences=[], \n",
        "  return_likelihoods='NONE') \n",
        "print('Prediction: {}'.format(response.generations[0].text)) "
      ]
    },
    {
      "cell_type": "code",
      "source": [],
      "metadata": {
        "id": "-DxyykGzK5Id"
      },
      "execution_count": null,
      "outputs": []
    }
  ]
}